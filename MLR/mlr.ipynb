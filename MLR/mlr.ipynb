{
 "cells": [
  {
   "cell_type": "code",
   "execution_count": 120,
   "metadata": {},
   "outputs": [],
   "source": [
    "import numpy as np\n",
    "import matplotlib.pyplot as plt\n",
    "from tqdm import tqdm\n",
    "from sklearn.model_selection import train_test_split"
   ]
  },
  {
   "cell_type": "code",
   "execution_count": 121,
   "metadata": {},
   "outputs": [],
   "source": [
    "# Generate synthetic data for Multiple Linear Regression\n",
    "def generate_data(n_samples=100, n_features=3):\n",
    "    \"\"\"\n",
    "    Generates synthetic data.\n",
    "\n",
    "    Parameters\n",
    "    ----------\n",
    "    n_samples : int\n",
    "        The number of data points to generate.\n",
    "    n_features (int) : No of columns (Features)    \n",
    "\n",
    "    Returns\n",
    "    -------\n",
    "    X (array-like) : Generated input feature values.\n",
    "    Y (array-like) : Corresponding target values.\n",
    "    \"\"\"    \n",
    "    np.random.seed(42)\n",
    "    X = 2 * np.random.rand(n_samples, n_features)  # Random values for multiple features\n",
    "    true_w = np.array([3, 2, 1.5])  # True weights for each feature\n",
    "    true_c = 4  # Intercept\n",
    "    noise = np.random.randn(n_samples)  # Random noise\n",
    "    y = X.dot(true_w) + true_c + noise  # y = Xw + c + noise\n",
    "    return X, y.reshape(-1, 1)  # Reshape y to column vector"
   ]
  },
  {
   "cell_type": "code",
   "execution_count": 122,
   "metadata": {},
   "outputs": [],
   "source": [
    "# Compute Mean Squared Error (MSE)\n",
    "def compute_loss(y_true, y_pred):\n",
    "    \"\"\"\n",
    "    Calculates the Mean Squared Error (MSE) between the true and predicted values.\n",
    "\n",
    "    Parameters\n",
    "    ----------\n",
    "    y_true (array-like) : Actual target values.\n",
    "    y_pred (array-like) : Predicted values from the model.\n",
    "\n",
    "    Returns\n",
    "    -------\n",
    "    float: The mean squared error value.\n",
    "    \"\"\"\n",
    "    return np.mean((y_true - y_pred) ** 2)"
   ]
  },
  {
   "cell_type": "code",
   "execution_count": 123,
   "metadata": {},
   "outputs": [],
   "source": [
    "from matplotlib import axis\n",
    "\n",
    "\n",
    "def compute_gradients(X, y, w, c):\n",
    "    \"\"\"\n",
    "    Computes gradients for the weight vector (w) and bias (c) using MSE loss.\n",
    "    \n",
    "    Parameters\n",
    "    ----------\n",
    "        X (ndarray) : Feature matrix of shape (n_samples, n_features).\n",
    "        y (ndarray) : Actual target values.\n",
    "        w (ndarray) : Weight vector of shape (n_features,).\n",
    "        c (float) : Bias term.\n",
    "    \n",
    "    Returns\n",
    "    -------\n",
    "        dw (ndarray) : Gradient of loss w.r.t. weights.\n",
    "        dc (float) : Gradient of loss w.r.t. bias.\n",
    "        loss (float) : Computed MSE loss.\n",
    "    \"\"\"\n",
    "    n = len(X)\n",
    "    y_pred = X.dot(w) + c\n",
    "    error = y - y_pred\n",
    "\n",
    "    dw = (-2 / n) * X.T.dot(error)  # Compute gradient for weights\n",
    "    dw = dw.mean(axis=1)\n",
    "    dc = (-2 / n) * np.sum(error)   # Compute gradient for bias\n",
    "\n",
    "    return dw, dc, compute_loss(y, y_pred)"
   ]
  },
  {
   "cell_type": "code",
   "execution_count": 124,
   "metadata": {},
   "outputs": [],
   "source": [
    "def train_model(X, y, learning_rate=0.01, epochs=1000):\n",
    "    \"\"\"\n",
    "    Trains the model using Gradient Descent to minimize MSE loss.\n",
    "    \n",
    "    Parameters\n",
    "    ----------\n",
    "        X (ndarray) : Feature matrix of shape (n_samples, n_features).\n",
    "        y (ndarray) : Target values.\n",
    "        learning_rate (float) : Step size for gradient descent.\n",
    "        epochs (int) : Number of iterations for training.\n",
    "\n",
    "    Returns\n",
    "    -------\n",
    "        w (ndarray) : Optimized weight vector.\n",
    "        c (float) : Optimized bias term.\n",
    "        loss_history (list) : MSE loss at each epoch.\n",
    "    \"\"\"\n",
    "    n_features = X.shape[1]\n",
    "    w = np.random.randn(n_features)  # Initialize weights randomly\n",
    "    c = np.random.randn()  # Initialize bias randomly\n",
    "    loss_history = []\n",
    "\n",
    "    print(\"\\nTraining Progress:\")\n",
    "    custom_bar = \"{desc}: {percentage:3.0f}% 🚀 |{bar}| 🎯{n_fmt}/{total_fmt} ⏳[{elapsed}<{remaining}, ⚡{rate_fmt}]\"\n",
    "    for epoch in tqdm(range(epochs), ncols=100, bar_format=custom_bar, ascii=\"▓▒░\"):\n",
    "        dw, dc, loss = compute_gradients(X, y, w, c)\n",
    "        w -= learning_rate * dw  # Update weights\n",
    "        c -= learning_rate * dc  # Update bias\n",
    "        loss_history.append(loss)\n",
    "        \n",
    "    print(f\"Epoch {epoch}/{epochs}, Loss: {loss:.4f}\")        \n",
    "    return w, c, loss_history \n"
   ]
  },
  {
   "cell_type": "code",
   "execution_count": 125,
   "metadata": {},
   "outputs": [],
   "source": [
    "def predict(X, w, c):\n",
    "    \"\"\"\n",
    "    Predicts output values using the trained model.\n",
    "    \n",
    "    Parameters\n",
    "    ----------\n",
    "        X (ndarray) : Input feature matrix.\n",
    "        w (ndarray) : Learned weight vector.\n",
    "        c (float) : Learned bias term.\n",
    "    \n",
    "    Returns\n",
    "    -------\n",
    "        ndarray : Predicted values.\n",
    "    \"\"\"\n",
    "    return X.dot(w) + c"
   ]
  },
  {
   "cell_type": "code",
   "execution_count": 126,
   "metadata": {},
   "outputs": [],
   "source": [
    "def plot_loss(loss_history):\n",
    "    \"\"\"\n",
    "    Plots the training loss over epochs.\n",
    "    \n",
    "    Parameters\n",
    "    ----------\n",
    "        loss_history (list) : List of loss values at each epoch.\n",
    "    \"\"\"\n",
    "    plt.figure(figsize=(8, 5))\n",
    "    plt.plot(range(len(loss_history)), loss_history, color='blue', label=\"Loss\")\n",
    "    plt.xlabel(\"Epochs\")\n",
    "    plt.ylabel(\"MSE Loss\")\n",
    "    plt.title(\"Training Loss Over Epochs\")\n",
    "    plt.legend()\n",
    "    plt.grid()\n",
    "    plt.show()"
   ]
  },
  {
   "cell_type": "code",
   "execution_count": 127,
   "metadata": {},
   "outputs": [
    {
     "name": "stdout",
     "output_type": "stream",
     "text": [
      "(80, 3) (80, 1)\n",
      "\n",
      "Training Progress:\n"
     ]
    },
    {
     "name": "stderr",
     "output_type": "stream",
     "text": [
      "100% 🚀 |░░░░░░░░░░░░░░░░░░░░░░░░░░░░░░░░░░░░░░░░░░░░░| 🎯10000/10000 ⏳[00:01<00:00, ⚡9585.30it/s]\n"
     ]
    },
    {
     "name": "stdout",
     "output_type": "stream",
     "text": [
      "Epoch 9999/10000, Loss: 6.4634\n",
      "\n",
      "Final parameters: w = [ 0.3747992  -0.40614017  1.18256866], c = 9.4299\n"
     ]
    },
    {
     "data": {
      "image/png": "[encoded data removed]",
      "text/plain": [
       "<Figure size 800x500 with 1 Axes>"
      ]
     },
     "metadata": {},
     "output_type": "display_data"
    }
   ],
   "source": [
    "# Main execution\n",
    "if __name__ == \"__main__\":\n",
    "    X, Y = generate_data(n_samples=100, n_features=3)\n",
    "    x_train, x_test, y_train, y_test = train_test_split(X, Y, test_size=0.2, random_state=42)\n",
    "    print(x_train.shape, y_train.shape)\n",
    "    w, c, loss_history = train_model(x_train, y_train, learning_rate=0.00001, epochs=10000)\n",
    "    \n",
    "    print(f\"\\nFinal parameters: w = {w}, c = {c:.4f}\")\n",
    "    \n",
    "    plot_loss(loss_history)  # Plot loss curve\n",
    "\n",
    "    # Example Predictions\n",
    "    y_pred = predict(x_test, w, c)\n",
    "    y_pred.shape"
   ]
  },
  {
   "cell_type": "code",
   "execution_count": null,
   "metadata": {},
   "outputs": [],
   "source": []
  }
 ],
 "metadata": {
  "kernelspec": {
   "display_name": "Brocamp ML(venv)",
   "language": "python",
   "name": "venv"
  },
  "language_info": {
   "codemirror_mode": {
    "name": "ipython",
    "version": 3
   },
   "file_extension": ".py",
   "mimetype": "text/x-python",
   "name": "python",
   "nbconvert_exporter": "python",
   "pygments_lexer": "ipython3",
   "version": "3.12.3"
  }
 },
 "nbformat": 4,
 "nbformat_minor": 2
}
